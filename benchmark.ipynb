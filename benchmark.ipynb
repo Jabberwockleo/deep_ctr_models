{
 "cells": [
  {
   "cell_type": "code",
   "execution_count": 1,
   "metadata": {},
   "outputs": [],
   "source": [
    "import numpy as np\n",
    "import tensorflow as tf"
   ]
  },
  {
   "cell_type": "raw",
   "metadata": {},
   "source": [
    "# Dataset\n",
    "import sklearn.datasets as datasets\n",
    "from sklearn.model_selection import train_test_split\n",
    "X_all, y_all = datasets.load_digits(n_class=2, return_X_y=True)\n",
    "X_tr, X_te, y_tr, y_te = train_test_split(X_all, y_all, random_state=42, test_size=0.3)\n",
    "print('Dataset shape: {}'.format(X_all.shape))\n",
    "print('Non-zeros rate: {:.05f}'.format(np.mean(X_all != 0)))\n",
    "print('Classes balance: {:.03f} / {:.03f}'.format(np.mean(y_all==0), np.mean(y_all==1)))"
   ]
  },
  {
   "cell_type": "code",
   "execution_count": 2,
   "metadata": {},
   "outputs": [
    {
     "name": "stdout",
     "output_type": "stream",
     "text": [
      "Extracting MNIST_data/train-images-idx3-ubyte.gz\n",
      "Extracting MNIST_data/train-labels-idx1-ubyte.gz\n",
      "Extracting MNIST_data/t10k-images-idx3-ubyte.gz\n",
      "Extracting MNIST_data/t10k-labels-idx1-ubyte.gz\n",
      "Dataset shape: (10625, 784)\n",
      "Non-zeros rate: 0.04027\n",
      "Classes balance: 0.469 / 0.531\n"
     ]
    }
   ],
   "source": [
    "# Dataset\n",
    "from tensorflow.examples.tutorials.mnist import input_data\n",
    "from sklearn.datasets import fetch_mldata\n",
    "from sklearn.preprocessing import scale\n",
    "from sklearn.model_selection import train_test_split\n",
    "from sklearn.metrics import roc_auc_score, accuracy_score\n",
    "\n",
    "mnist = input_data.read_data_sets(\"MNIST_data/\")\n",
    "\n",
    "mnist_images = mnist.train.images\n",
    "mnist_labels = mnist.train.labels\n",
    "\n",
    "n_three, n_five = sum(mnist_labels==3), sum(mnist_labels==5)\n",
    "\n",
    "X_all = np.vstack([\n",
    "    mnist_images[mnist_labels==3,:],\n",
    "    mnist_images[mnist_labels==5,:]\n",
    "])\n",
    "\n",
    "y_all = np.array([1]*n_three + [0]*n_five)\n",
    "\n",
    "# make it more sparse\n",
    "X_all = X_all * (np.random.uniform(0, 1, X_all.shape) > 0.8)\n",
    "\n",
    "# make one-hot\n",
    "X_all = (X_all > 0).astype(np.int64)\n",
    "\n",
    "print('Dataset shape: {}'.format(X_all.shape))\n",
    "print('Non-zeros rate: {:.05f}'.format(np.mean(X_all != 0)))\n",
    "print('Classes balance: {:.03f} / {:.03f}'.format(np.mean(y_all==0), np.mean(y_all==1)))\n",
    "\n",
    "X_tr, X_te, y_tr, y_te = train_test_split(X_all, y_all, random_state=42, test_size=0.3)"
   ]
  },
  {
   "cell_type": "code",
   "execution_count": 3,
   "metadata": {},
   "outputs": [],
   "source": [
    "# Column indexed data\n",
    "# convert data to svmlight format\n",
    "from sklearn.datasets import dump_svmlight_file\n",
    "from sklearn.model_selection import train_test_split\n",
    "fname = './dump_svmlight.txt'\n",
    "feature_num=X_all.shape[1]\n",
    "dump_svmlight_file(X_all, y_all, fname)\n",
    "\n",
    "import utils\n",
    "X_cid_all, y_cid_all = utils.read_zipped_column_indexed_data_from_svmlight_file(fname)\n",
    "X_cid_tr, X_cid_te, y_cid_tr, y_cid_te = train_test_split(X_cid_all, y_cid_all, random_state=42, test_size=0.3)\n",
    "\n",
    "X_ind_tr, X_val_tr, y_cid_tr = utils.convert_to_column_indexed_data(X_cid_tr, y_cid_tr)\n",
    "X_ind_te, X_val_te, y_cid_te = utils.convert_to_column_indexed_data(X_cid_te, y_cid_te)\n",
    "\n",
    "X_ind_tr, X_val_tr, y_cid_tr = utils.convert_to_fully_column_indexed_data(\n",
    "    X_ind_tr, X_val_tr, y_cid_tr, feature_num=feature_num)\n",
    "X_ind_te, X_val_te, y_cid_te = utils.convert_to_fully_column_indexed_data(\n",
    "    X_ind_te, X_val_te, y_cid_te, feature_num=feature_num)"
   ]
  },
  {
   "cell_type": "code",
   "execution_count": 4,
   "metadata": {},
   "outputs": [
    {
     "name": "stdout",
     "output_type": "stream",
     "text": [
      "model: LogisticRegression(C=1.0, class_weight=None, dual=False, fit_intercept=True,\n",
      "          intercept_scaling=1, max_iter=100, multi_class='ovr', n_jobs=1,\n",
      "          penalty='l2', random_state=None, solver='liblinear', tol=0.0001,\n",
      "          verbose=0, warm_start=False)\n",
      "accuracy: 0.8626097867001254\n",
      "f1 score: 0.8742102240091901\n",
      "model: RandomForestClassifier(bootstrap=True, class_weight=None, criterion='gini',\n",
      "            max_depth=None, max_features='auto', max_leaf_nodes=None,\n",
      "            min_impurity_decrease=0.0, min_impurity_split=None,\n",
      "            min_samples_leaf=1, min_samples_split=2,\n",
      "            min_weight_fraction_leaf=0.0, n_estimators=200, n_jobs=-1,\n",
      "            oob_score=False, random_state=None, verbose=0,\n",
      "            warm_start=False)\n",
      "accuracy: 0.8638644918444166\n",
      "f1 score: 0.8771929824561404\n"
     ]
    }
   ],
   "source": [
    "# Baseline\n",
    "from sklearn.linear_model import LogisticRegression\n",
    "from sklearn.ensemble import RandomForestClassifier\n",
    "from sklearn.svm import SVC\n",
    "from sklearn.metrics import roc_auc_score, accuracy_score, f1_score\n",
    "for model in [\n",
    "    LogisticRegression(), \n",
    "    #SVC(kernel='linear'),\n",
    "    RandomForestClassifier(n_jobs=-1, n_estimators=200)]:\n",
    "    model.fit(X_tr, y_tr)\n",
    "    predictions = model.predict(X_te)\n",
    "    acc = accuracy_score(y_te, predictions)\n",
    "    f1 = f1_score(y_te, predictions)\n",
    "    print('model: {}'.format(model.__str__()))\n",
    "    print('accuracy: {}'.format(acc))\n",
    "    print('f1 score: {}'.format(f1))"
   ]
  },
  {
   "cell_type": "code",
   "execution_count": 5,
   "metadata": {},
   "outputs": [
    {
     "name": "stdout",
     "output_type": "stream",
     "text": [
      "tensorboard --logdir=/tmp/tflog --port 8080\n",
      "epoch: 8, global_step: 1000, loss: 0.5252286791801453\n",
      "model: <tflrclassifier.TFLRClassifier object at 0x1120116a0>\n",
      "train accuracy: 0.8226435390614495\n",
      "test accuracy: 0.8164993726474279\n"
     ]
    }
   ],
   "source": [
    "# tf lr standard\n",
    "import imp\n",
    "import tflrclassifier\n",
    "tflrclassifier = imp.reload(tflrclassifier)\n",
    "\n",
    "for model in [\n",
    "        tflrclassifier.TFLRClassifier(l2_weight=0.01, learning_rate=1e-2, \\\n",
    "            batch_size=64, epoch_num=10, print_step=1000, input_type='dense')\n",
    "    ]:\n",
    "    model.fit(X_tr, y_tr)\n",
    "    predictions = model.predict(X_te)\n",
    "    acc = accuracy_score(y_te, predictions)\n",
    "    print('model: {}'.format(model.__str__()))\n",
    "    print('train accuracy: {}'.format(accuracy_score(y_tr, model.predict(X_tr))))\n",
    "    print('test accuracy: {}'.format(acc))"
   ]
  },
  {
   "cell_type": "code",
   "execution_count": 6,
   "metadata": {},
   "outputs": [
    {
     "name": "stdout",
     "output_type": "stream",
     "text": [
      "tensorboard --logdir=/tmp/tflog --port 8080\n",
      "epoch: 8, global_step: 1000, loss: 0.5172117352485657\n",
      "model: <tflrclassifier_column_indexed.TFLRClassifier object at 0x10fb07ef0>\n",
      "train accuracy: 0.8307113083232486\n",
      "test accuracy: 0.8186951066499373\n"
     ]
    }
   ],
   "source": [
    "# tf lr column indexed\n",
    "import tflrclassifier_column_indexed\n",
    "import imp\n",
    "tflrclassifier_column_indexed = imp.reload(tflrclassifier_column_indexed)\n",
    "for model in [tflrclassifier_column_indexed.TFLRClassifier(\n",
    "    feature_num=X_all.shape[1], # feature num must set\n",
    "    l2_weight=0.01, learning_rate=1e-2,\n",
    "    batch_size=64, epoch_num=10, print_step=1000, random_seed=42)]:\n",
    "    model.fit(np.array(X_ind_tr), np.array(X_val_tr), np.array(y_cid_tr))\n",
    "    predictions = model.predict(np.array(X_ind_te), np.array(X_val_te))\n",
    "    acc = accuracy_score(np.array(y_cid_te), predictions)\n",
    "    print('model: {}'.format(model.__str__()))\n",
    "    print('train accuracy: {}'.format(accuracy_score(np.array(y_cid_tr), model.predict(np.array(X_ind_tr), np.array(X_val_tr)))))\n",
    "    print('test accuracy: {}'.format(acc))"
   ]
  },
  {
   "cell_type": "code",
   "execution_count": 7,
   "metadata": {},
   "outputs": [
    {
     "name": "stdout",
     "output_type": "stream",
     "text": [
      "tensorboard --logdir=/tmp/tflog --port 8080\n",
      "epoch: 8, global_step: 1000, loss: 0.44359660148620605\n",
      "model: <tffmclassifier.TFFMClassifier object at 0x10eeeec50>\n",
      "train accuracy: 0.8878580072609923\n",
      "test accuracy: 0.8585319949811794\n"
     ]
    }
   ],
   "source": [
    "# tf fm standard\n",
    "import imp\n",
    "import tffmclassifier\n",
    "tffmclassifier = imp.reload(tffmclassifier)\n",
    "\n",
    "for model in [\n",
    "        tffmclassifier.TFFMClassifier(l2_weight=0.01, factor_num=10, learning_rate=1e-2, \\\n",
    "            batch_size=64, epoch_num=10, print_step=1000, input_type='dense', random_seed=42)\n",
    "    ]:\n",
    "    model.fit(X_tr, y_tr)\n",
    "    predictions = model.predict(X_te)\n",
    "    acc = accuracy_score(y_te, predictions)\n",
    "    print('model: {}'.format(model.__str__()))\n",
    "    print('train accuracy: {}'.format(accuracy_score(y_tr, model.predict(X_tr))))\n",
    "    print('test accuracy: {}'.format(acc))"
   ]
  },
  {
   "cell_type": "code",
   "execution_count": 8,
   "metadata": {},
   "outputs": [
    {
     "name": "stdout",
     "output_type": "stream",
     "text": [
      "tensorboard --logdir=/tmp/tflog --port 8080\n",
      "epoch: 8, global_step: 1000, loss: 0.5167216658592224\n",
      "model: <tffmclassifier_column_indexed.TFFMClassifier object at 0x1c2efa0f28>\n",
      "train accuracy: 0.8309802339653086\n",
      "test accuracy: 0.8177540777917189\n"
     ]
    }
   ],
   "source": [
    "# tf fm column indexed\n",
    "import tffmclassifier_column_indexed\n",
    "import imp\n",
    "tffmclassifier_column_indexed = imp.reload(tffmclassifier_column_indexed)\n",
    "for model in [tffmclassifier_column_indexed.TFFMClassifier(\n",
    "    feature_num=X_all.shape[1], # feature num must set\n",
    "    factor_num=10,\n",
    "    l2_weight=0.01, learning_rate=1e-2,\n",
    "    batch_size=64, epoch_num=10, print_step=1000, random_seed=42)]:\n",
    "    model.fit(np.array(X_ind_tr), np.array(X_val_tr), np.array(y_cid_tr))\n",
    "    predictions = model.predict(np.array(X_ind_te), np.array(X_val_te))\n",
    "    acc = accuracy_score(np.array(y_cid_te), predictions)\n",
    "    print('model: {}'.format(model.__str__()))\n",
    "    print('train accuracy: {}'.format(accuracy_score(np.array(y_cid_tr), model.predict(np.array(X_ind_tr), np.array(X_val_tr)))))\n",
    "    print('test accuracy: {}'.format(acc))"
   ]
  },
  {
   "cell_type": "code",
   "execution_count": 9,
   "metadata": {},
   "outputs": [
    {
     "name": "stdout",
     "output_type": "stream",
     "text": [
      "tensorboard --logdir=/tmp/tflog --port 8080\n",
      "epoch: 1, global_step: 1000, loss: 0.41340115666389465\n",
      "epoch: 2, global_step: 2000, loss: 0.5901235938072205\n",
      "epoch: 4, global_step: 3000, loss: 0.7107369899749756\n",
      "epoch: 5, global_step: 4000, loss: 0.8052839636802673\n",
      "epoch: 6, global_step: 5000, loss: 0.47031980752944946\n",
      "epoch: 8, global_step: 6000, loss: 0.46961700916290283\n",
      "epoch: 9, global_step: 7000, loss: 0.4204866290092468\n",
      "model: <tfdeepfmclassifier_column_indexed.TFDeepFMClassifier object at 0x1c2f37d048>\n",
      "train accuracy: 0.8680919725695845\n",
      "test accuracy: 0.8522584692597239\n"
     ]
    }
   ],
   "source": [
    "# tf deep fm column indexed\n",
    "import tfdeepfmclassifier_column_indexed\n",
    "import imp\n",
    "tfdeepfmclassifier_column_indexed = imp.reload(tfdeepfmclassifier_column_indexed)\n",
    "for model in [tfdeepfmclassifier_column_indexed.TFDeepFMClassifier(\n",
    "    feature_num=X_all.shape[1], # feature num must set\n",
    "    field_num=X_all.shape[1], # field num must set\n",
    "    factor_num=3,\n",
    "    l2_weight=0.01, learning_rate=1e-2,\n",
    "    batch_size=10, epoch_num=10, print_step=1000, random_seed=42)]:\n",
    "    model.fit(np.array(X_ind_tr), np.array(X_val_tr), np.array(y_cid_tr))\n",
    "    predictions = model.predict(np.array(X_ind_te), np.array(X_val_te))\n",
    "    acc = accuracy_score(np.array(y_cid_te), predictions)\n",
    "    print('model: {}'.format(model.__str__()))\n",
    "    print('train accuracy: {}'.format(accuracy_score(np.array(y_cid_tr), model.predict(np.array(X_ind_tr), np.array(X_val_tr)))))\n",
    "    print('test accuracy: {}'.format(acc))"
   ]
  },
  {
   "cell_type": "code",
   "execution_count": 33,
   "metadata": {},
   "outputs": [
    {
     "name": "stdout",
     "output_type": "stream",
     "text": [
      "tensorboard --logdir=/tmp/tflog --port 8080\n",
      "epoch: 1, global_step: 1000, loss: 0.7164245247840881\n",
      "epoch: 2, global_step: 2000, loss: 0.7275373935699463\n",
      "epoch: 4, global_step: 3000, loss: 0.695078432559967\n",
      "epoch: 5, global_step: 4000, loss: 0.8130803108215332\n",
      "epoch: 6, global_step: 5000, loss: 0.7130793929100037\n",
      "epoch: 8, global_step: 6000, loss: 0.6983160972595215\n",
      "epoch: 9, global_step: 7000, loss: 0.7133716344833374\n",
      "model: <tfdcnclassifier_column_indexed.TFDCNClassifier object at 0x7fd4e05a45c0>\n",
      "train accuracy: 0.527497646900632\n",
      "test accuracy: 0.5379548306148055\n"
     ]
    }
   ],
   "source": [
    "# tf DCN column indexed\n",
    "import tfdcnclassifier_column_indexed\n",
    "import imp\n",
    "tfdcnclassifier_column_indexed = imp.reload(tfdcnclassifier_column_indexed)\n",
    "for model in [tfdcnclassifier_column_indexed.TFDCNClassifier(\n",
    "    feature_num=X_all.shape[1], # feature num must set\n",
    "    field_num=X_all.shape[1], # field num must set\n",
    "    factor_num=3,\n",
    "    deep_layer_nodes=[32, 32],\n",
    "    cross_layer_num=1,\n",
    "    l2_weight=0.01, learning_rate=1e-3,\n",
    "    batch_size=10, epoch_num=10, print_step=1000, random_seed=42)]:\n",
    "    model.fit(np.array(X_ind_tr), np.array(X_val_tr), np.array(y_cid_tr))\n",
    "    predictions = model.predict(np.array(X_ind_te), np.array(X_val_te))\n",
    "    acc = accuracy_score(np.array(y_cid_te), predictions)\n",
    "    print('model: {}'.format(model.__str__()))\n",
    "    print('train accuracy: {}'.format(accuracy_score(np.array(y_cid_tr), model.predict(np.array(X_ind_tr), np.array(X_val_tr)))))\n",
    "    print('test accuracy: {}'.format(acc))"
   ]
  },
  {
   "cell_type": "code",
   "execution_count": null,
   "metadata": {},
   "outputs": [],
   "source": []
  }
 ],
 "metadata": {
  "kernelspec": {
   "display_name": "Python 3",
   "language": "python",
   "name": "python3"
  },
  "language_info": {
   "codemirror_mode": {
    "name": "ipython",
    "version": 3
   },
   "file_extension": ".py",
   "mimetype": "text/x-python",
   "name": "python",
   "nbconvert_exporter": "python",
   "pygments_lexer": "ipython3",
   "version": "3.6.4"
  }
 },
 "nbformat": 4,
 "nbformat_minor": 2
}
